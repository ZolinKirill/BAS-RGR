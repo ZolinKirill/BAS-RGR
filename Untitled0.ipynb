{
  "nbformat": 4,
  "nbformat_minor": 0,
  "metadata": {
    "colab": {
      "name": "Untitled0.ipynb",
      "provenance": [],
      "collapsed_sections": [],
      "toc_visible": true
    },
    "kernelspec": {
      "name": "python3",
      "display_name": "Python 3"
    },
    "language_info": {
      "name": "python"
    }
  },
  "cells": [
    {
      "cell_type": "code",
      "source": [
        ""
      ],
      "metadata": {
        "id": "OIDQBmCwlcOf"
      },
      "execution_count": null,
      "outputs": []
    },
    {
      "cell_type": "code",
      "execution_count": null,
      "metadata": {
        "id": "gCTAV_7xZcPe"
      },
      "outputs": [],
      "source": [
        ""
      ]
    },
    {
      "cell_type": "markdown",
      "source": [
        "## Греческий алфавит\n",
        "\n",
        "Заголовок|Строчная|Заглавная\n",
        "--|--|--\n",
        "А|$\\alpha$|альфа\n",
        "B|$\\beta$|бетта\n",
        "Г|$\\gamma$|гамма\n",
        "Δ|$\\delta$|дельта\n",
        "E|$\\epsilon$|эпсилон\n",
        "Z|$\\zeta$|дзета\n",
        "H|$\\eta$|эта\n",
        "Θ|$\\theta$|тета\n",
        "I|$\\iota$|йота\n",
        "K|$\\kappa$|каппа\n",
        "Λ|$\\lambda$|лямбда\n",
        "M|$\\mu$|мю\n",
        "N|$\\nu$|ню\n",
        "Ξ|$\\xi$|кси\n",
        "O|$\\omicron$|омикрон\n",
        "П|$\\Pi$|пи\n",
        "P|$\\rho$| ро\n",
        "Σ|$\\sigma$|сигма\n",
        "T|$\\tau$|тау\n",
        "Υ|$\\upsilon$|ипсилон\n",
        "Φ|$\\phi$|фи\n",
        "X|$\\chi$|хи\n",
        "Ψ|$\\psi$|пси\n",
        "Ω|$\\omega$|омега\n",
        "\n",
        "$$\\displaystyle f(x)=\\frac 1{\\sigma \\sqrt{ 2\\pi }}e^{-\\frac 1 2 \\left (\\frac{ x-\\mu }\\sigma \\right)^2}$$\n",
        "\n"
      ],
      "metadata": {
        "id": "pblHOjYmaOK-"
      }
    },
    {
      "cell_type": "markdown",
      "source": [
        "Формула в отдельной строке\n",
        "$$\\displaystyle f(x)=\\frac 1{\\sigma \\sqrt{ 2\\pi }}e^{-\\frac 1 2 \\left (\\frac{ x-\\mu }\\sigma \\right)^2}$$\n",
        "\n",
        "Формула в тексте:$\\displaystyle f(x)=\\frac 1{\\sigma \\sqrt{ 2\\pi }}e^{-\\frac 1 2 \\left (\\frac{ x-\\mu }\\sigma \\right)^2}$$"
      ],
      "metadata": {
        "id": "BQMe8YFiklI4"
      }
    },
    {
      "cell_type": "markdown",
      "source": [
        "# Заголовок первого уровня"
      ],
      "metadata": {
        "id": "BRohZu2Taflk"
      }
    },
    {
      "cell_type": "markdown",
      "source": [
        "## Заголовок второго уровня"
      ],
      "metadata": {
        "id": "a79dqsn3agDs"
      }
    },
    {
      "cell_type": "markdown",
      "source": [
        "### Заголовок третьего уровня"
      ],
      "metadata": {
        "id": "_4j-5zm_bARV"
      }
    }
  ]
}