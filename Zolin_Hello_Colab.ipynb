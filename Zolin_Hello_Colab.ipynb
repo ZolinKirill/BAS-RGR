{
  "cells": [
    {
      "cell_type": "markdown",
      "id": "8af231a2-f6b6-45bd-9cc8-ef9eea450f17",
      "metadata": {
        "tags": [],
        "id": "8af231a2-f6b6-45bd-9cc8-ef9eea450f17"
      },
      "source": [
        "#Первая программа на суперкомпьютере"
      ]
    },
    {
      "cell_type": "code",
      "execution_count": null,
      "id": "ee7bb057-6005-49d1-b3b0-52c6af2e9e6a",
      "metadata": {
        "tags": [],
        "colab": {
          "base_uri": "https://localhost:8080/"
        },
        "id": "ee7bb057-6005-49d1-b3b0-52c6af2e9e6a",
        "outputId": "7a120131-c326-485f-faba-ea4edc235cba"
      },
      "outputs": [
        {
          "output_type": "stream",
          "name": "stdout",
          "text": [
            "Hello, World!\n"
          ]
        }
      ],
      "source": [
        "print(\"Hello, World!\")"
      ]
    },
    {
      "cell_type": "markdown",
      "id": "01ff0070-3cbd-4aee-b2c7-c5cacb776506",
      "metadata": {
        "id": "01ff0070-3cbd-4aee-b2c7-c5cacb776506"
      },
      "source": [
        "Выполнил: Золин К.И ПИ-322"
      ]
    }
  ],
  "metadata": {
    "kernelspec": {
      "display_name": "Python 3 (ipykernel)",
      "language": "python",
      "name": "python3"
    },
    "language_info": {
      "codemirror_mode": {
        "name": "ipython",
        "version": 3
      },
      "file_extension": ".py",
      "mimetype": "text/x-python",
      "name": "python",
      "nbconvert_exporter": "python",
      "pygments_lexer": "ipython3",
      "version": "3.8.12"
    },
    "toc-autonumbering": false,
    "toc-showcode": false,
    "toc-showmarkdowntxt": false,
    "colab": {
      "name": "Zolin-Hello-Colab.ipynb",
      "provenance": [],
      "collapsed_sections": []
    }
  },
  "nbformat": 4,
  "nbformat_minor": 5
}