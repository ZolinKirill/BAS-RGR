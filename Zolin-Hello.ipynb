{
 "cells": [
  {
   "cell_type": "markdown",
   "id": "8af231a2-f6b6-45bd-9cc8-ef9eea450f17",
   "metadata": {
    "tags": []
   },
   "source": [
    "#Первая программа на суперкомпьютере"
   ]
  },
  {
   "cell_type": "code",
   "execution_count": 7,
   "id": "ee7bb057-6005-49d1-b3b0-52c6af2e9e6a",
   "metadata": {
    "tags": []
   },
   "outputs": [
    {
     "name": "stdout",
     "output_type": "stream",
     "text": [
      "Hello, World!\n"
     ]
    }
   ],
   "source": [
    "print(\"Hello, World!\")"
   ]
  },
  {
   "cell_type": "markdown",
   "id": "01ff0070-3cbd-4aee-b2c7-c5cacb776506",
   "metadata": {},
   "source": [
    "Выполнил: Золин К.И ПИ-322"
   ]
  }
 ],
 "metadata": {
  "kernelspec": {
   "display_name": "Python 3 (ipykernel)",
   "language": "python",
   "name": "python3"
  },
  "language_info": {
   "codemirror_mode": {
    "name": "ipython",
    "version": 3
   },
   "file_extension": ".py",
   "mimetype": "text/x-python",
   "name": "python",
   "nbconvert_exporter": "python",
   "pygments_lexer": "ipython3",
   "version": "3.8.12"
  },
  "toc-autonumbering": false,
  "toc-showcode": false,
  "toc-showmarkdowntxt": false
 },
 "nbformat": 4,
 "nbformat_minor": 5
}
